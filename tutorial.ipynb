{
 "cells": [
  {
   "cell_type": "markdown",
   "metadata": {},
   "source": [
    "# PySPDE Tutorial"
   ]
  },
  {
   "cell_type": "markdown",
   "metadata": {},
   "source": [
    "First, we import the useful classes:"
   ]
  },
  {
   "cell_type": "code",
   "execution_count": 93,
   "metadata": {},
   "outputs": [],
   "source": [
    "from src.spde import *\n",
    "from src.linear_solvers import SpectralSolver\n",
    "from src.noises import WhiteNoise\n",
    "from src.visualizer import Visualizer\n",
    "from src.integrators import *\n",
    "from src.basis import FiniteElementBasis\n",
    "from src.integrators import Midpoint, ThetaScheme\n",
    "from src.deriv import DerivativeOperator\n",
    "\n",
    "from mpl_toolkits import mplot3d\n",
    "from IPython.display import set_matplotlib_formats\n",
    "set_matplotlib_formats('png', 'pdf')\n",
    "\n",
    "import matplotlib\n",
    "matplotlib.rcParams['figure.figsize'] = (15.0, 7.5)\n",
    "matplotlib.rcParams['font.size'] = 24"
   ]
  },
  {
   "cell_type": "markdown",
   "metadata": {},
   "source": [
    "Set up a simple example problem:\n",
    "\n",
    "$$\n",
    "    \\partial_\\tau u = \\ddot{u} - \\dot{u}^2/u + \\sigma\\sqrt{2}\\xi(\\tau, t),\n",
    "$$\n",
    "\n",
    "with $u(\\tau, 0) = 1$, $\\dot{u}(\\tau, 1) = (a - \\sigma^2/2)u(\\tau, 1)$\n",
    "\n",
    "First step is to set up simulation parameters"
   ]
  },
  {
   "cell_type": "code",
   "execution_count": 74,
   "metadata": {},
   "outputs": [],
   "source": [
    "tau_max = 5 # end virtual time for simulation\n",
    "steps = 1000 # virtual time steps\n",
    "points = 30 # real time points\n",
    "linear = 1 # coefficient for the second derivative part\n",
    "dt = tau_max / steps # virtual time steps"
   ]
  },
  {
   "cell_type": "markdown",
   "metadata": {},
   "source": [
    "Then, the sampling parameters:"
   ]
  },
  {
   "cell_type": "code",
   "execution_count": 75,
   "metadata": {},
   "outputs": [],
   "source": [
    "# same as in.ensembles = [16, 4, 4] in xSPDE\n",
    "blocks = 16\n",
    "samples = 4\n",
    "processes = 4"
   ]
  },
  {
   "cell_type": "markdown",
   "metadata": {},
   "source": [
    "Then the problem parameters:"
   ]
  },
  {
   "cell_type": "code",
   "execution_count": 103,
   "metadata": {},
   "outputs": [],
   "source": [
    "a = -1\n",
    "sigma = 0.25"
   ]
  },
  {
   "cell_type": "markdown",
   "metadata": {},
   "source": [
    "Now we set up the SPDE problem. First, the boundary conditions:"
   ]
  },
  {
   "cell_type": "code",
   "execution_count": 104,
   "metadata": {},
   "outputs": [],
   "source": [
    "boundaries = [\n",
    "    Dirichlet(1),\n",
    "    Robin(lambda u: (a - sigma**2)*u)\n",
    "]"
   ]
  },
  {
   "cell_type": "markdown",
   "metadata": {},
   "source": [
    "Then create a time lattice:"
   ]
  },
  {
   "cell_type": "code",
   "execution_count": 105,
   "metadata": {},
   "outputs": [],
   "source": [
    "lattice = Lattice(\n",
    "    0, # origin\n",
    "    1, # endpoint\n",
    "    points, # number of lattice points\n",
    "    boundaries, # necessary for whether to include boundary points in lattice\n",
    ")\n",
    "\n",
    "# Finite difference derivative operator\n",
    "d1 = DerivativeOperator(1, lattice, boundaries)"
   ]
  },
  {
   "cell_type": "markdown",
   "metadata": {},
   "source": [
    "Create an SPDE object:"
   ]
  },
  {
   "cell_type": "code",
   "execution_count": 106,
   "metadata": {},
   "outputs": [],
   "source": [
    "noise = WhiteNoise(\n",
    "    1, # variance\n",
    "    points # dimension of noise vector\n",
    ")\n",
    "\n",
    "spde = SPDE(\n",
    "    linear,\n",
    "    lambda u: -a**2*u,\n",
    "    lambda u: sigma*sqrt(2),\n",
    "    noise\n",
    ")\n",
    "\n",
    "# the full problem is specified separately:\n",
    "problem = StochasticPartialProblem(\n",
    "    spde,\n",
    "    boundaries,\n",
    "    lattice\n",
    ")"
   ]
  },
  {
   "cell_type": "markdown",
   "metadata": {},
   "source": [
    "Now we set up the solution method:"
   ]
  },
  {
   "cell_type": "code",
   "execution_count": 107,
   "metadata": {},
   "outputs": [],
   "source": [
    "# Use the midpoint method with spectral solver for the linear part\n",
    "#stepper = Midpoint(\n",
    "#    SpectralSolver(problem),\n",
    "#    dt\n",
    "#)\n",
    "\n",
    "# Use a finite elements method with theta scheme\n",
    "stepper = ThetaScheme(\n",
    "    1, # theta = 0: explicit euler, theta = 1/2: Crank-Nicholson, theta = 1: implicit Euler\n",
    "    lattice,\n",
    "    FiniteElementBasis(lattice, boundaries),\n",
    "    dt\n",
    ")"
   ]
  },
  {
   "cell_type": "markdown",
   "metadata": {},
   "source": [
    "Now set up a solver for a single trajectory:"
   ]
  },
  {
   "cell_type": "code",
   "execution_count": 108,
   "metadata": {},
   "outputs": [],
   "source": [
    "# initial condition: u(tau, 0) = 1\n",
    "initial_condition = np.ones((1, points))\n",
    "\n",
    "trajectory_solver = TrajectorySolver(\n",
    "    problem,\n",
    "    steps,\n",
    "    tau_max,\n",
    "    initial_condition,\n",
    "    stepper\n",
    ")"
   ]
  },
  {
   "cell_type": "markdown",
   "metadata": {},
   "source": [
    "Then hand that to the ensemble solver to do a Monte Carlo run:"
   ]
  },
  {
   "cell_type": "code",
   "execution_count": 109,
   "metadata": {},
   "outputs": [],
   "source": [
    "ensemble_solver = EnsembleSolver(\n",
    "    trajectory_solver,\n",
    "    samples,\n",
    "    blocks=blocks,\n",
    "    processes=processes,\n",
    "    observables={\n",
    "        \"value\": lambda u: u,\n",
    "        \"square\": lambda u: u**2,\n",
    "    },\n",
    "    verbose=False, # turn this on to get logging info from all threads\n",
    "    pbar=True, # turn this on to get a pretty progress bar\n",
    "    seed=1,\n",
    "    check=True, # obtain step size errors\n",
    ")"
   ]
  },
  {
   "cell_type": "markdown",
   "metadata": {},
   "source": [
    "Perform an MC run:"
   ]
  },
  {
   "cell_type": "code",
   "execution_count": null,
   "metadata": {},
   "outputs": [
    {
     "name": "stderr",
     "output_type": "stream",
     "text": [
      "  6%|▋         | 1/16 [00:01<00:25,  1.70s/it]"
     ]
    }
   ],
   "source": [
    "ensemble_solver.solve()"
   ]
  },
  {
   "cell_type": "markdown",
   "metadata": {},
   "source": [
    "Extract mean and mean-square data:"
   ]
  },
  {
   "cell_type": "code",
   "execution_count": null,
   "metadata": {},
   "outputs": [],
   "source": [
    "mean = ensemble_solver.means[\"value\"][0]\n",
    "square = ensemble_solver.means[\"square\"][0]\n",
    "\n",
    "mean_step_error = ensemble_solver.step_errors[\"value\"][0]\n",
    "mean_sample_error = ensemble_solver.sample_errors[\"value\"][0]\n",
    "\n",
    "square_step_error = ensemble_solver.step_errors[\"square\"][0]\n",
    "square_sample_error = ensemble_solver.sample_errors[\"square\"][0]"
   ]
  },
  {
   "cell_type": "markdown",
   "metadata": {},
   "source": [
    "`Visualizer` is a helper class for producing graphs:"
   ]
  },
  {
   "cell_type": "code",
   "execution_count": null,
   "metadata": {},
   "outputs": [],
   "source": [
    "vis_mean = Visualizer(\n",
    "    mean,\n",
    "    (0, tau_max),\n",
    "    lattice,\n",
    "    sample_error=mean_sample_error,\n",
    "    step_error=mean_step_error,\n",
    ")\n",
    "\n",
    "vis_square = Visualizer(\n",
    "    square,\n",
    "    (0, tau_max),\n",
    "    lattice,\n",
    "    sample_error=square_sample_error,\n",
    "    step_error=square_step_error,\n",
    ")"
   ]
  },
  {
   "cell_type": "code",
   "execution_count": null,
   "metadata": {
    "scrolled": true
   },
   "outputs": [],
   "source": [
    "fig_mean_ss, ax_mean_ss = vis_mean.steady_state(marker='o', linestyle='-.')\n",
    "ax_mean_ss.set_xlabel(\"t\")\n",
    "ax_mean_ss.set_ylabel(r\"$\\langle\\phi\\rangle$\")\n",
    "\n",
    "fig_mean_surf, ax_mean_surf = vis_mean.surface()"
   ]
  },
  {
   "cell_type": "code",
   "execution_count": null,
   "metadata": {},
   "outputs": [],
   "source": [
    "fig_square_ss, ax_square_ss = vis_square.steady_state(marker='o', linestyle='-.')\n",
    "ax_square_ss.set_xlabel(\"t\")\n",
    "ax_square_ss.set_ylabel(r\"$\\langle\\phi^2\\rangle$\")\n",
    "\n",
    "fig_square_surf, ax_square_surf = vis_square.surface()"
   ]
  },
  {
   "cell_type": "code",
   "execution_count": null,
   "metadata": {},
   "outputs": [],
   "source": []
  },
  {
   "cell_type": "code",
   "execution_count": null,
   "metadata": {},
   "outputs": [],
   "source": []
  }
 ],
 "metadata": {
  "kernelspec": {
   "display_name": "Python 3",
   "language": "python",
   "name": "python3"
  },
  "language_info": {
   "codemirror_mode": {
    "name": "ipython",
    "version": 3
   },
   "file_extension": ".py",
   "mimetype": "text/x-python",
   "name": "python",
   "nbconvert_exporter": "python",
   "pygments_lexer": "ipython3",
   "version": "3.7.6"
  }
 },
 "nbformat": 4,
 "nbformat_minor": 2
}
